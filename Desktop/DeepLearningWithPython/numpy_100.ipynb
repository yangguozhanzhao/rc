# -*- coding: utf-8 -*-
#ref:http://www.labri.fr/perso/nrougier/teaching/numpy.100/index.html
import numpy as np

